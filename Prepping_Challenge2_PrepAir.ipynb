{
 "cells": [
  {
   "cell_type": "raw",
   "id": "def0e06b",
   "metadata": {},
   "source": [
    ">Input the two csv files\n",
    ">Union the files together\n",
    ">Convert the Date field to a Quarter Number instead\n",
    "Name this field Quarter\n",
    ">Aggregate the data in the following ways:\n",
    "Median price per Quarter, Flow Card? and Class\n",
    "Minimum price per Quarter, Flow Card? and Class\n",
    "Maximum price per Quarter, Flow Card? and Class\n",
    ">Create three separate flows where you have only one of the aggregated measures in each. \n",
    "One for the minimum price\n",
    "One for the median price\n",
    "One for the maximum price\n",
    ">Now pivot the data to have a column per class for each quarter and whether the passenger had a flow card or not\n",
    ">Union these flows back together\n",
    ">Change the name of the following columns:\n",
    "Economy to First\n",
    "First Class to Economy\n",
    "Business Class to Premium\n",
    "Premium Economy to Business"
   ]
  },
  {
   "cell_type": "code",
   "execution_count": 76,
   "id": "055a69c1",
   "metadata": {},
   "outputs": [],
   "source": [
    "import pandas as pd\n",
    "import numpy as np\n",
    "import datetime as dt"
   ]
  },
  {
   "cell_type": "raw",
   "id": "56b9aaa2",
   "metadata": {},
   "source": [
    ">Input the two csv files"
   ]
  },
  {
   "cell_type": "code",
   "execution_count": 137,
   "id": "2f432216",
   "metadata": {},
   "outputs": [],
   "source": [
    "df1= pd.read_csv('PD 2024 Wk 1 Output Flow Card.csv')\n",
    "df2= pd.read_csv('PD 2024 Wk 1 Output Non-Flow Card.csv')"
   ]
  },
  {
   "cell_type": "raw",
   "id": "3664d787",
   "metadata": {},
   "source": [
    ">Union the files together"
   ]
  },
  {
   "cell_type": "code",
   "execution_count": 138,
   "id": "42edf7d6",
   "metadata": {},
   "outputs": [],
   "source": [
    "df= pd.concat([df1,df2],ignore_index= True)"
   ]
  },
  {
   "cell_type": "code",
   "execution_count": 139,
   "id": "4650ccdf",
   "metadata": {},
   "outputs": [
    {
     "name": "stderr",
     "output_type": "stream",
     "text": [
      "C:\\Users\\Niveatha\\AppData\\Local\\Temp\\ipykernel_49360\\2394721818.py:1: UserWarning: Parsing dates in DD/MM/YYYY format when dayfirst=False (the default) was specified. This may lead to inconsistently parsed dates! Specify a format to ensure consistent parsing.\n",
      "  df['Date'] = pd.to_datetime(df['Date'])\n"
     ]
    }
   ],
   "source": [
    "df['Date'] = pd.to_datetime(df['Date'])"
   ]
  },
  {
   "cell_type": "code",
   "execution_count": 140,
   "id": "b0fdfa1b",
   "metadata": {},
   "outputs": [
    {
     "data": {
      "text/plain": [
       "Date             datetime64[ns]\n",
       "Flight Number            object\n",
       "From                     object\n",
       "To                       object\n",
       "Class                    object\n",
       "Price                   float64\n",
       "Flow Card?               object\n",
       "Bags Checked              int64\n",
       "Meal Type                object\n",
       "dtype: object"
      ]
     },
     "execution_count": 140,
     "metadata": {},
     "output_type": "execute_result"
    }
   ],
   "source": [
    "df.dtypes"
   ]
  },
  {
   "cell_type": "raw",
   "id": "8239911c",
   "metadata": {},
   "source": [
    ">Convert the Date field to a Quarter Number instead\n",
    "Name this field Quarter"
   ]
  },
  {
   "cell_type": "code",
   "execution_count": 141,
   "id": "4d3cf3c4",
   "metadata": {},
   "outputs": [],
   "source": [
    "df['Date']= df['Date'].dt.quarter"
   ]
  },
  {
   "cell_type": "code",
   "execution_count": 142,
   "id": "306db4d7",
   "metadata": {},
   "outputs": [],
   "source": [
    "df.rename(columns={'Date': 'Quarter', 'Flow Card?':'Flow card'}, inplace= True)"
   ]
  },
  {
   "cell_type": "raw",
   "id": "16df51a0",
   "metadata": {},
   "source": [
    ">Aggregate the data in the following ways:\n",
    "Median price per Quarter, Flow Card? and Class\n",
    "Minimum price per Quarter, Flow Card? and Class\n",
    "Maximum price per Quarter, Flow Card? and Class"
   ]
  },
  {
   "cell_type": "code",
   "execution_count": 143,
   "id": "c588b5f4",
   "metadata": {},
   "outputs": [],
   "source": [
    "median_price= df.groupby(['Flow card','Quarter','Class'])['Price'].median()"
   ]
  },
  {
   "cell_type": "code",
   "execution_count": 144,
   "id": "349058c3",
   "metadata": {},
   "outputs": [],
   "source": [
    "min_price=df.groupby(['Flow card','Quarter','Class'])['Price'].min()"
   ]
  },
  {
   "cell_type": "code",
   "execution_count": 145,
   "id": "7a27ca3d",
   "metadata": {},
   "outputs": [],
   "source": [
    "max_price=df.groupby(['Flow card','Quarter','Class'])['Price'].max()"
   ]
  },
  {
   "cell_type": "code",
   "execution_count": 146,
   "id": "8dff30ff",
   "metadata": {},
   "outputs": [
    {
     "data": {
      "text/html": [
       "<div>\n",
       "<style scoped>\n",
       "    .dataframe tbody tr th:only-of-type {\n",
       "        vertical-align: middle;\n",
       "    }\n",
       "\n",
       "    .dataframe tbody tr th {\n",
       "        vertical-align: top;\n",
       "    }\n",
       "\n",
       "    .dataframe thead th {\n",
       "        text-align: right;\n",
       "    }\n",
       "</style>\n",
       "<table border=\"1\" class=\"dataframe\">\n",
       "  <thead>\n",
       "    <tr style=\"text-align: right;\">\n",
       "      <th></th>\n",
       "      <th></th>\n",
       "      <th></th>\n",
       "      <th>Price</th>\n",
       "    </tr>\n",
       "    <tr>\n",
       "      <th>Flow card</th>\n",
       "      <th>Quarter</th>\n",
       "      <th>Class</th>\n",
       "      <th></th>\n",
       "    </tr>\n",
       "  </thead>\n",
       "  <tbody>\n",
       "    <tr>\n",
       "      <th rowspan=\"5\" valign=\"top\">No</th>\n",
       "      <th rowspan=\"4\" valign=\"top\">1</th>\n",
       "      <th>Business Class</th>\n",
       "      <td>556.2</td>\n",
       "    </tr>\n",
       "    <tr>\n",
       "      <th>Economy</th>\n",
       "      <td>2285.0</td>\n",
       "    </tr>\n",
       "    <tr>\n",
       "      <th>First Class</th>\n",
       "      <td>437.5</td>\n",
       "    </tr>\n",
       "    <tr>\n",
       "      <th>Premium Economy</th>\n",
       "      <td>1177.5</td>\n",
       "    </tr>\n",
       "    <tr>\n",
       "      <th>2</th>\n",
       "      <th>Business Class</th>\n",
       "      <td>544.8</td>\n",
       "    </tr>\n",
       "  </tbody>\n",
       "</table>\n",
       "</div>"
      ],
      "text/plain": [
       "                                    Price\n",
       "Flow card Quarter Class                  \n",
       "No        1       Business Class    556.2\n",
       "                  Economy          2285.0\n",
       "                  First Class       437.5\n",
       "                  Premium Economy  1177.5\n",
       "          2       Business Class    544.8"
      ]
     },
     "execution_count": 146,
     "metadata": {},
     "output_type": "execute_result"
    }
   ],
   "source": [
    "median_price=pd.DataFrame(median_price)\n",
    "median_price.head()"
   ]
  },
  {
   "cell_type": "code",
   "execution_count": 147,
   "id": "ddae33b1",
   "metadata": {},
   "outputs": [],
   "source": [
    "median_price=median_price.pivot_table(index=['Flow card','Quarter'],columns= 'Class', values='Price')"
   ]
  },
  {
   "cell_type": "code",
   "execution_count": 148,
   "id": "759b64c7",
   "metadata": {},
   "outputs": [
    {
     "data": {
      "text/html": [
       "<div>\n",
       "<style scoped>\n",
       "    .dataframe tbody tr th:only-of-type {\n",
       "        vertical-align: middle;\n",
       "    }\n",
       "\n",
       "    .dataframe tbody tr th {\n",
       "        vertical-align: top;\n",
       "    }\n",
       "\n",
       "    .dataframe thead th {\n",
       "        text-align: right;\n",
       "    }\n",
       "</style>\n",
       "<table border=\"1\" class=\"dataframe\">\n",
       "  <thead>\n",
       "    <tr style=\"text-align: right;\">\n",
       "      <th></th>\n",
       "      <th>Class</th>\n",
       "      <th>Business Class</th>\n",
       "      <th>Economy</th>\n",
       "      <th>First Class</th>\n",
       "      <th>Premium Economy</th>\n",
       "    </tr>\n",
       "    <tr>\n",
       "      <th>Flow card</th>\n",
       "      <th>Quarter</th>\n",
       "      <th></th>\n",
       "      <th></th>\n",
       "      <th></th>\n",
       "      <th></th>\n",
       "    </tr>\n",
       "  </thead>\n",
       "  <tbody>\n",
       "    <tr>\n",
       "      <th rowspan=\"4\" valign=\"top\">No</th>\n",
       "      <th>1</th>\n",
       "      <td>556.2</td>\n",
       "      <td>2285.0</td>\n",
       "      <td>437.5</td>\n",
       "      <td>1177.50</td>\n",
       "    </tr>\n",
       "    <tr>\n",
       "      <th>2</th>\n",
       "      <td>544.8</td>\n",
       "      <td>2345.0</td>\n",
       "      <td>440.5</td>\n",
       "      <td>1176.25</td>\n",
       "    </tr>\n",
       "    <tr>\n",
       "      <th>3</th>\n",
       "      <td>490.8</td>\n",
       "      <td>2245.0</td>\n",
       "      <td>511.5</td>\n",
       "      <td>1080.00</td>\n",
       "    </tr>\n",
       "    <tr>\n",
       "      <th>4</th>\n",
       "      <td>597.6</td>\n",
       "      <td>2275.0</td>\n",
       "      <td>427.0</td>\n",
       "      <td>1130.00</td>\n",
       "    </tr>\n",
       "    <tr>\n",
       "      <th>Yes</th>\n",
       "      <th>1</th>\n",
       "      <td>550.8</td>\n",
       "      <td>2272.5</td>\n",
       "      <td>437.5</td>\n",
       "      <td>1146.25</td>\n",
       "    </tr>\n",
       "  </tbody>\n",
       "</table>\n",
       "</div>"
      ],
      "text/plain": [
       "Class              Business Class  Economy  First Class  Premium Economy\n",
       "Flow card Quarter                                                       \n",
       "No        1                 556.2   2285.0        437.5          1177.50\n",
       "          2                 544.8   2345.0        440.5          1176.25\n",
       "          3                 490.8   2245.0        511.5          1080.00\n",
       "          4                 597.6   2275.0        427.0          1130.00\n",
       "Yes       1                 550.8   2272.5        437.5          1146.25"
      ]
     },
     "execution_count": 148,
     "metadata": {},
     "output_type": "execute_result"
    }
   ],
   "source": [
    "median_price.head()"
   ]
  },
  {
   "cell_type": "raw",
   "id": "ceafa75c",
   "metadata": {},
   "source": [
    ">Create three separate flows where you have only one of the aggregated measures in each. \n",
    "One for the minimum price\n",
    "One for the median price\n",
    "One for the maximum price"
   ]
  },
  {
   "cell_type": "raw",
   "id": "aee4aed2",
   "metadata": {},
   "source": [
    ">Now pivot the data to have a column per class for each quarter and whether the passenger had a flow card or not"
   ]
  },
  {
   "cell_type": "code",
   "execution_count": 149,
   "id": "9502d7e0",
   "metadata": {},
   "outputs": [],
   "source": [
    "min_price=pd.DataFrame(min_price)\n",
    "min_price=min_price.pivot_table(index=['Flow card','Quarter'],columns= 'Class', values='Price')"
   ]
  },
  {
   "cell_type": "code",
   "execution_count": 150,
   "id": "78e23696",
   "metadata": {},
   "outputs": [],
   "source": [
    "max_price=pd.DataFrame(max_price)\n",
    "max_price=max_price.pivot_table(index=['Flow card','Quarter'],columns= 'Class', values='Price')"
   ]
  },
  {
   "cell_type": "raw",
   "id": "e5d2481f",
   "metadata": {},
   "source": [
    ">Union these flows back together"
   ]
  },
  {
   "cell_type": "code",
   "execution_count": 151,
   "id": "532c3fcf",
   "metadata": {},
   "outputs": [],
   "source": [
    "main_df=pd.concat([median_price,min_price,max_price])\n",
    "main_df= pd.DataFrame(main_df)"
   ]
  },
  {
   "cell_type": "code",
   "execution_count": 155,
   "id": "36d51646",
   "metadata": {},
   "outputs": [
    {
     "data": {
      "text/plain": [
       "(24, 4)"
      ]
     },
     "execution_count": 155,
     "metadata": {},
     "output_type": "execute_result"
    }
   ],
   "source": [
    "main_df.shape"
   ]
  },
  {
   "cell_type": "code",
   "execution_count": 157,
   "id": "db4b2b73",
   "metadata": {},
   "outputs": [
    {
     "data": {
      "text/html": [
       "<div>\n",
       "<style scoped>\n",
       "    .dataframe tbody tr th:only-of-type {\n",
       "        vertical-align: middle;\n",
       "    }\n",
       "\n",
       "    .dataframe tbody tr th {\n",
       "        vertical-align: top;\n",
       "    }\n",
       "\n",
       "    .dataframe thead th {\n",
       "        text-align: right;\n",
       "    }\n",
       "</style>\n",
       "<table border=\"1\" class=\"dataframe\">\n",
       "  <thead>\n",
       "    <tr style=\"text-align: right;\">\n",
       "      <th></th>\n",
       "      <th>Class</th>\n",
       "      <th>Business Class</th>\n",
       "      <th>Economy</th>\n",
       "      <th>First Class</th>\n",
       "      <th>Premium Economy</th>\n",
       "    </tr>\n",
       "    <tr>\n",
       "      <th>Flow card</th>\n",
       "      <th>Quarter</th>\n",
       "      <th></th>\n",
       "      <th></th>\n",
       "      <th></th>\n",
       "      <th></th>\n",
       "    </tr>\n",
       "  </thead>\n",
       "  <tbody>\n",
       "    <tr>\n",
       "      <th rowspan=\"4\" valign=\"top\">No</th>\n",
       "      <th>1</th>\n",
       "      <td>556.2</td>\n",
       "      <td>2285.0</td>\n",
       "      <td>437.5</td>\n",
       "      <td>1177.50</td>\n",
       "    </tr>\n",
       "    <tr>\n",
       "      <th>2</th>\n",
       "      <td>544.8</td>\n",
       "      <td>2345.0</td>\n",
       "      <td>440.5</td>\n",
       "      <td>1176.25</td>\n",
       "    </tr>\n",
       "    <tr>\n",
       "      <th>3</th>\n",
       "      <td>490.8</td>\n",
       "      <td>2245.0</td>\n",
       "      <td>511.5</td>\n",
       "      <td>1080.00</td>\n",
       "    </tr>\n",
       "    <tr>\n",
       "      <th>4</th>\n",
       "      <td>597.6</td>\n",
       "      <td>2275.0</td>\n",
       "      <td>427.0</td>\n",
       "      <td>1130.00</td>\n",
       "    </tr>\n",
       "    <tr>\n",
       "      <th>Yes</th>\n",
       "      <th>1</th>\n",
       "      <td>550.8</td>\n",
       "      <td>2272.5</td>\n",
       "      <td>437.5</td>\n",
       "      <td>1146.25</td>\n",
       "    </tr>\n",
       "  </tbody>\n",
       "</table>\n",
       "</div>"
      ],
      "text/plain": [
       "Class              Business Class  Economy  First Class  Premium Economy\n",
       "Flow card Quarter                                                       \n",
       "No        1                 556.2   2285.0        437.5          1177.50\n",
       "          2                 544.8   2345.0        440.5          1176.25\n",
       "          3                 490.8   2245.0        511.5          1080.00\n",
       "          4                 597.6   2275.0        427.0          1130.00\n",
       "Yes       1                 550.8   2272.5        437.5          1146.25"
      ]
     },
     "execution_count": 157,
     "metadata": {},
     "output_type": "execute_result"
    }
   ],
   "source": [
    "main_df.head()"
   ]
  },
  {
   "cell_type": "raw",
   "id": "aa5b568d",
   "metadata": {},
   "source": [
    ">Change the name of the following columns:\n",
    "Economy to First\n",
    "First Class to Economy\n",
    "Business Class to Premium\n",
    "Premium Economy to Business"
   ]
  },
  {
   "cell_type": "code",
   "execution_count": 158,
   "id": "93c7c733",
   "metadata": {},
   "outputs": [
    {
     "data": {
      "text/html": [
       "<div>\n",
       "<style scoped>\n",
       "    .dataframe tbody tr th:only-of-type {\n",
       "        vertical-align: middle;\n",
       "    }\n",
       "\n",
       "    .dataframe tbody tr th {\n",
       "        vertical-align: top;\n",
       "    }\n",
       "\n",
       "    .dataframe thead th {\n",
       "        text-align: right;\n",
       "    }\n",
       "</style>\n",
       "<table border=\"1\" class=\"dataframe\">\n",
       "  <thead>\n",
       "    <tr style=\"text-align: right;\">\n",
       "      <th></th>\n",
       "      <th>Class</th>\n",
       "      <th>Premium Economy</th>\n",
       "      <th>First Class</th>\n",
       "      <th>Economy</th>\n",
       "      <th>Business</th>\n",
       "    </tr>\n",
       "    <tr>\n",
       "      <th>Flow card</th>\n",
       "      <th>Quarter</th>\n",
       "      <th></th>\n",
       "      <th></th>\n",
       "      <th></th>\n",
       "      <th></th>\n",
       "    </tr>\n",
       "  </thead>\n",
       "  <tbody>\n",
       "    <tr>\n",
       "      <th rowspan=\"4\" valign=\"top\">No</th>\n",
       "      <th>1</th>\n",
       "      <td>556.2</td>\n",
       "      <td>2285.0</td>\n",
       "      <td>437.5</td>\n",
       "      <td>1177.50</td>\n",
       "    </tr>\n",
       "    <tr>\n",
       "      <th>2</th>\n",
       "      <td>544.8</td>\n",
       "      <td>2345.0</td>\n",
       "      <td>440.5</td>\n",
       "      <td>1176.25</td>\n",
       "    </tr>\n",
       "    <tr>\n",
       "      <th>3</th>\n",
       "      <td>490.8</td>\n",
       "      <td>2245.0</td>\n",
       "      <td>511.5</td>\n",
       "      <td>1080.00</td>\n",
       "    </tr>\n",
       "    <tr>\n",
       "      <th>4</th>\n",
       "      <td>597.6</td>\n",
       "      <td>2275.0</td>\n",
       "      <td>427.0</td>\n",
       "      <td>1130.00</td>\n",
       "    </tr>\n",
       "    <tr>\n",
       "      <th rowspan=\"4\" valign=\"top\">Yes</th>\n",
       "      <th>1</th>\n",
       "      <td>550.8</td>\n",
       "      <td>2272.5</td>\n",
       "      <td>437.5</td>\n",
       "      <td>1146.25</td>\n",
       "    </tr>\n",
       "    <tr>\n",
       "      <th>2</th>\n",
       "      <td>511.8</td>\n",
       "      <td>2300.0</td>\n",
       "      <td>440.0</td>\n",
       "      <td>1131.25</td>\n",
       "    </tr>\n",
       "    <tr>\n",
       "      <th>3</th>\n",
       "      <td>530.4</td>\n",
       "      <td>2387.5</td>\n",
       "      <td>476.0</td>\n",
       "      <td>1050.00</td>\n",
       "    </tr>\n",
       "    <tr>\n",
       "      <th>4</th>\n",
       "      <td>526.2</td>\n",
       "      <td>2160.0</td>\n",
       "      <td>441.0</td>\n",
       "      <td>1127.50</td>\n",
       "    </tr>\n",
       "    <tr>\n",
       "      <th rowspan=\"4\" valign=\"top\">No</th>\n",
       "      <th>1</th>\n",
       "      <td>246.0</td>\n",
       "      <td>1000.0</td>\n",
       "      <td>200.0</td>\n",
       "      <td>532.50</td>\n",
       "    </tr>\n",
       "    <tr>\n",
       "      <th>2</th>\n",
       "      <td>240.0</td>\n",
       "      <td>1000.0</td>\n",
       "      <td>202.0</td>\n",
       "      <td>507.50</td>\n",
       "    </tr>\n",
       "    <tr>\n",
       "      <th>3</th>\n",
       "      <td>240.0</td>\n",
       "      <td>1000.0</td>\n",
       "      <td>201.0</td>\n",
       "      <td>515.00</td>\n",
       "    </tr>\n",
       "    <tr>\n",
       "      <th>4</th>\n",
       "      <td>240.0</td>\n",
       "      <td>1015.0</td>\n",
       "      <td>201.0</td>\n",
       "      <td>527.50</td>\n",
       "    </tr>\n",
       "    <tr>\n",
       "      <th rowspan=\"4\" valign=\"top\">Yes</th>\n",
       "      <th>1</th>\n",
       "      <td>243.6</td>\n",
       "      <td>1020.0</td>\n",
       "      <td>201.0</td>\n",
       "      <td>502.50</td>\n",
       "    </tr>\n",
       "    <tr>\n",
       "      <th>2</th>\n",
       "      <td>240.0</td>\n",
       "      <td>1005.0</td>\n",
       "      <td>200.0</td>\n",
       "      <td>500.00</td>\n",
       "    </tr>\n",
       "    <tr>\n",
       "      <th>3</th>\n",
       "      <td>241.2</td>\n",
       "      <td>1020.0</td>\n",
       "      <td>205.0</td>\n",
       "      <td>502.50</td>\n",
       "    </tr>\n",
       "    <tr>\n",
       "      <th>4</th>\n",
       "      <td>241.2</td>\n",
       "      <td>1030.0</td>\n",
       "      <td>205.0</td>\n",
       "      <td>505.00</td>\n",
       "    </tr>\n",
       "    <tr>\n",
       "      <th rowspan=\"4\" valign=\"top\">No</th>\n",
       "      <th>1</th>\n",
       "      <td>834.0</td>\n",
       "      <td>3445.0</td>\n",
       "      <td>699.0</td>\n",
       "      <td>1722.50</td>\n",
       "    </tr>\n",
       "    <tr>\n",
       "      <th>2</th>\n",
       "      <td>838.8</td>\n",
       "      <td>3480.0</td>\n",
       "      <td>694.0</td>\n",
       "      <td>1745.00</td>\n",
       "    </tr>\n",
       "    <tr>\n",
       "      <th>3</th>\n",
       "      <td>835.2</td>\n",
       "      <td>3455.0</td>\n",
       "      <td>698.0</td>\n",
       "      <td>1747.50</td>\n",
       "    </tr>\n",
       "    <tr>\n",
       "      <th>4</th>\n",
       "      <td>835.2</td>\n",
       "      <td>3465.0</td>\n",
       "      <td>691.0</td>\n",
       "      <td>1730.00</td>\n",
       "    </tr>\n",
       "    <tr>\n",
       "      <th rowspan=\"4\" valign=\"top\">Yes</th>\n",
       "      <th>1</th>\n",
       "      <td>840.0</td>\n",
       "      <td>3500.0</td>\n",
       "      <td>698.0</td>\n",
       "      <td>1737.50</td>\n",
       "    </tr>\n",
       "    <tr>\n",
       "      <th>2</th>\n",
       "      <td>837.6</td>\n",
       "      <td>3490.0</td>\n",
       "      <td>693.0</td>\n",
       "      <td>1750.00</td>\n",
       "    </tr>\n",
       "    <tr>\n",
       "      <th>3</th>\n",
       "      <td>840.0</td>\n",
       "      <td>3495.0</td>\n",
       "      <td>697.0</td>\n",
       "      <td>1727.50</td>\n",
       "    </tr>\n",
       "    <tr>\n",
       "      <th>4</th>\n",
       "      <td>834.0</td>\n",
       "      <td>3410.0</td>\n",
       "      <td>697.0</td>\n",
       "      <td>1737.50</td>\n",
       "    </tr>\n",
       "  </tbody>\n",
       "</table>\n",
       "</div>"
      ],
      "text/plain": [
       "Class              Premium Economy  First Class  Economy  Business\n",
       "Flow card Quarter                                                 \n",
       "No        1                  556.2       2285.0    437.5   1177.50\n",
       "          2                  544.8       2345.0    440.5   1176.25\n",
       "          3                  490.8       2245.0    511.5   1080.00\n",
       "          4                  597.6       2275.0    427.0   1130.00\n",
       "Yes       1                  550.8       2272.5    437.5   1146.25\n",
       "          2                  511.8       2300.0    440.0   1131.25\n",
       "          3                  530.4       2387.5    476.0   1050.00\n",
       "          4                  526.2       2160.0    441.0   1127.50\n",
       "No        1                  246.0       1000.0    200.0    532.50\n",
       "          2                  240.0       1000.0    202.0    507.50\n",
       "          3                  240.0       1000.0    201.0    515.00\n",
       "          4                  240.0       1015.0    201.0    527.50\n",
       "Yes       1                  243.6       1020.0    201.0    502.50\n",
       "          2                  240.0       1005.0    200.0    500.00\n",
       "          3                  241.2       1020.0    205.0    502.50\n",
       "          4                  241.2       1030.0    205.0    505.00\n",
       "No        1                  834.0       3445.0    699.0   1722.50\n",
       "          2                  838.8       3480.0    694.0   1745.00\n",
       "          3                  835.2       3455.0    698.0   1747.50\n",
       "          4                  835.2       3465.0    691.0   1730.00\n",
       "Yes       1                  840.0       3500.0    698.0   1737.50\n",
       "          2                  837.6       3490.0    693.0   1750.00\n",
       "          3                  840.0       3495.0    697.0   1727.50\n",
       "          4                  834.0       3410.0    697.0   1737.50"
      ]
     },
     "execution_count": 158,
     "metadata": {},
     "output_type": "execute_result"
    }
   ],
   "source": [
    "main_df.rename(columns={'Economy':'First Class',\n",
    "                         'First Class': 'Economy',\n",
    "                         'Business Class': 'Premium Economy',\n",
    "                         'Premium Economy': 'Business' })"
   ]
  },
  {
   "cell_type": "code",
   "execution_count": null,
   "id": "8e15eaf5",
   "metadata": {},
   "outputs": [],
   "source": []
  }
 ],
 "metadata": {
  "kernelspec": {
   "display_name": "Python 3 (ipykernel)",
   "language": "python",
   "name": "python3"
  },
  "language_info": {
   "codemirror_mode": {
    "name": "ipython",
    "version": 3
   },
   "file_extension": ".py",
   "mimetype": "text/x-python",
   "name": "python",
   "nbconvert_exporter": "python",
   "pygments_lexer": "ipython3",
   "version": "3.11.4"
  }
 },
 "nbformat": 4,
 "nbformat_minor": 5
}
